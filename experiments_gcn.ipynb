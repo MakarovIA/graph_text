{
 "cells": [
  {
   "cell_type": "code",
   "execution_count": null,
   "metadata": {},
   "outputs": [
    {
     "name": "stderr",
     "output_type": "stream",
     "text": [
      "Using backend: pytorch\n"
     ]
    }
   ],
   "source": [
    "from tqdm import tqdm\n",
    "import warnings\n",
    "warnings.filterwarnings(\"ignore\")\n",
    "\n",
    "from models import TADW, TriDnr, DeepWalk, Node2Vec, Hope\n",
    "from text_transformers import SBert, LDA, W2V, Sent2Vec, Doc2Vec, BOW, TFIDF\n",
    "from datasets import Cora, CiteseerM10, Dblp\n",
    "\n",
    "import numpy as np\n",
    "\n",
    "from task import Task\n",
    "\n",
    "from train_gcn import train_gcn"
   ]
  },
  {
   "cell_type": "code",
   "execution_count": null,
   "metadata": {},
   "outputs": [],
   "source": [
    "datasets = [\n",
    "   ('Cora', Cora),\n",
    "   ('CiteseerM10', CiteseerM10),\n",
    "   ('DBLP', Dblp)\n",
    "]\n",
    "\n",
    "seeds = [1, 10, 100, 1000, 10000]\n",
    "test_ratios = [0.5, 0.7, 0.9, 0.95]\n",
    "\n",
    "res = {}\n",
    "\n",
    "for ds_name, ds_constr in tqdm(datasets, desc='datasets'):\n",
    "    ds = ds_constr()\n",
    "    ds.transform_features(TFIDF())\n",
    "    for test_ratio in tqdm(test_ratios, desc='test ratio'):\n",
    "        scores = []\n",
    "        for seed in seeds:\n",
    "            score = train_gcn(ds, test_ratio, seed=seed, verbose=False)\n",
    "            scores.append(score)\n",
    "\n",
    "        res[f'{1 - test_ratio} - {ds_name} - GCN'] = scores\n",
    "\n",
    "\n",
    "for name, scores in res.items():\n",
    "    print(name, scores, np.mean(scores), np.std(scores))"
   ]
  },
  {
   "cell_type": "code",
   "execution_count": null,
   "metadata": {},
   "outputs": [],
   "source": []
  }
 ],
 "metadata": {
  "kernelspec": {
   "display_name": "Python [conda env:graph_text]",
   "language": "python",
   "name": "conda-env-graph_text-py"
  },
  "language_info": {
   "codemirror_mode": {
    "name": "ipython",
    "version": 3
   },
   "file_extension": ".py",
   "mimetype": "text/x-python",
   "name": "python",
   "nbconvert_exporter": "python",
   "pygments_lexer": "ipython3",
   "version": "3.6.10"
  }
 },
 "nbformat": 4,
 "nbformat_minor": 4
}
