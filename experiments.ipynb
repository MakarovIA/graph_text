{
 "cells": [
  {
   "cell_type": "code",
   "execution_count": 1,
   "metadata": {},
   "outputs": [],
   "source": [
    "from tqdm import tqdm_notebook as tqdm\n",
    "\n",
    "from models import TADW\n",
    "from datasets import Cora\n",
    "\n",
    "import numpy as np\n",
    "import pandas as pd\n",
    "\n",
    "from sklearn.model_selection import train_test_split\n",
    "from sklearn.decomposition import TruncatedSVD\n",
    "from sklearn.svm import LinearSVC\n",
    "from sklearn.multiclass import OneVsRestClassifier\n",
    "from sklearn.ensemble import GradientBoostingClassifier\n",
    "from sklearn.metrics import accuracy_score, f1_score\n",
    "from sklearn.feature_extraction.text import CountVectorizer, TfidfVectorizer\n",
    "\n",
    "from collections import defaultdict"
   ]
  },
  {
   "cell_type": "code",
   "execution_count": 2,
   "metadata": {},
   "outputs": [],
   "source": [
    "candidates = [\n",
    "    (TADW, CountVectorizer, 'TADW + BOW'),\n",
    "    (TADW, TfidfVectorizer, 'TADW + TFIDF')\n",
    "]"
   ]
  },
  {
   "cell_type": "code",
   "execution_count": 3,
   "metadata": {},
   "outputs": [],
   "source": [
    "ds = Cora()"
   ]
  },
  {
   "cell_type": "code",
   "execution_count": 4,
   "metadata": {},
   "outputs": [
    {
     "data": {
      "application/vnd.jupyter.widget-view+json": {
       "model_id": "5f5694520ee3442695b4fae20d502a7d",
       "version_major": 2,
       "version_minor": 0
      },
      "text/plain": [
       "HBox(children=(IntProgress(value=0, description='seeds', max=3, style=ProgressStyle(description_width='initial…"
      ]
     },
     "metadata": {},
     "output_type": "display_data"
    },
    {
     "data": {
      "application/vnd.jupyter.widget-view+json": {
       "model_id": "266042a1248149e9a6822c1ed6fd344f",
       "version_major": 2,
       "version_minor": 0
      },
      "text/plain": [
       "HBox(children=(IntProgress(value=0, description='candidates', max=2, style=ProgressStyle(description_width='in…"
      ]
     },
     "metadata": {},
     "output_type": "display_data"
    },
    {
     "name": "stderr",
     "output_type": "stream",
     "text": [
      "/Users/mikhail/anaconda3/envs/graph_text/lib/python3.6/site-packages/sklearn/feature_extraction/text.py:1089: FutureWarning: Conversion of the second argument of issubdtype from `float` to `np.floating` is deprecated. In future, it will be treated as `np.float64 == np.dtype(float).type`.\n",
      "  if hasattr(X, 'dtype') and np.issubdtype(X.dtype, np.float):\n"
     ]
    },
    {
     "data": {
      "application/vnd.jupyter.widget-view+json": {
       "model_id": "455a5566d6524d9597564cd76166185d",
       "version_major": 2,
       "version_minor": 0
      },
      "text/plain": [
       "HBox(children=(IntProgress(value=0, description='candidates', max=2, style=ProgressStyle(description_width='in…"
      ]
     },
     "metadata": {},
     "output_type": "display_data"
    },
    {
     "name": "stderr",
     "output_type": "stream",
     "text": [
      "/Users/mikhail/anaconda3/envs/graph_text/lib/python3.6/site-packages/sklearn/feature_extraction/text.py:1089: FutureWarning: Conversion of the second argument of issubdtype from `float` to `np.floating` is deprecated. In future, it will be treated as `np.float64 == np.dtype(float).type`.\n",
      "  if hasattr(X, 'dtype') and np.issubdtype(X.dtype, np.float):\n"
     ]
    },
    {
     "data": {
      "application/vnd.jupyter.widget-view+json": {
       "model_id": "fc8eb93bd2cd4a5c9f342b3f929905f0",
       "version_major": 2,
       "version_minor": 0
      },
      "text/plain": [
       "HBox(children=(IntProgress(value=0, description='candidates', max=2, style=ProgressStyle(description_width='in…"
      ]
     },
     "metadata": {},
     "output_type": "display_data"
    },
    {
     "name": "stderr",
     "output_type": "stream",
     "text": [
      "/Users/mikhail/anaconda3/envs/graph_text/lib/python3.6/site-packages/sklearn/feature_extraction/text.py:1089: FutureWarning: Conversion of the second argument of issubdtype from `float` to `np.floating` is deprecated. In future, it will be treated as `np.float64 == np.dtype(float).type`.\n",
      "  if hasattr(X, 'dtype') and np.issubdtype(X.dtype, np.float):\n"
     ]
    },
    {
     "name": "stdout",
     "output_type": "stream",
     "text": [
      "\n"
     ]
    }
   ],
   "source": [
    "d = 160\n",
    "seeds = [1, 10, 100]\n",
    "\n",
    "res = defaultdict(list)\n",
    "for seed in tqdm(seeds, desc='seeds'):\n",
    "    train_indx, test_indx =  train_test_split(ds.ids, stratify=ds.labels, test_size=0.5, random_state=seed)\n",
    "    for constr, transf, name in tqdm(candidates, desc='candidates'):\n",
    "        transformer = transf()\n",
    "        ds.transform_features(transformer)\n",
    "        data = ds.get_data()\n",
    "\n",
    "        model = constr(data['graph'], data['features'], dim=d)\n",
    "        model.learn_embeddings()\n",
    "\n",
    "        y = data['labels'].reshape(-1, 1)\n",
    "        ids = data['ids'].reshape(-1, 1)\n",
    "        dev_df = pd.DataFrame(np.hstack((ids, model.embeddings, y)),columns=['index']+[f'{i}' for i in range(d)]+['label'])\n",
    "        dev_df = dev_df.set_index('index')\n",
    "\n",
    "        train_X, train_y = dev_df.iloc[train_indx,:-1].values, dev_df.iloc[train_indx,-1].values \n",
    "        test_X, test_y = dev_df.iloc[test_indx,:-1].values, dev_df.iloc[test_indx,-1].values \n",
    "\n",
    "        clf = OneVsRestClassifier(GradientBoostingClassifier())\n",
    "        clf.fit(train_X, train_y)\n",
    "        pred_y = clf.predict(test_X)\n",
    "        f1 = f1_score(test_y, pred_y, average='micro')\n",
    "        \n",
    "        res[name].append(f1)"
   ]
  },
  {
   "cell_type": "code",
   "execution_count": 5,
   "metadata": {},
   "outputs": [
    {
     "data": {
      "text/plain": [
       "defaultdict(list,\n",
       "            {'TADW + BOW': [0.8419497784342688,\n",
       "              0.8478581979320532,\n",
       "              0.8330871491875923],\n",
       "             'TADW + TFIDF': [0.8323485967503693,\n",
       "              0.8382570162481536,\n",
       "              0.8478581979320532]})"
      ]
     },
     "execution_count": 5,
     "metadata": {},
     "output_type": "execute_result"
    }
   ],
   "source": [
    "res"
   ]
  },
  {
   "cell_type": "code",
   "execution_count": 6,
   "metadata": {},
   "outputs": [
    {
     "name": "stdout",
     "output_type": "stream",
     "text": [
      "Iteration  0\n",
      "Iteration  1\n",
      "Iteration  2\n",
      "Iteration  3\n",
      "Iteration  4\n",
      "Iteration  5\n",
      "Iteration  6\n",
      "Iteration  7\n",
      "Iteration  8\n",
      "Iteration  9\n",
      "Iteration  10\n",
      "Iteration  11\n",
      "Iteration  12\n",
      "Iteration  13\n",
      "Iteration  14\n",
      "Iteration  15\n",
      "Iteration  16\n",
      "Iteration  17\n",
      "Iteration  18\n",
      "Iteration  19\n"
     ]
    }
   ],
   "source": [
    "model = TADW(data['graph'], data['features'], dim=160, lamb=0.2)\n",
    "model.learn_embeddings()"
   ]
  },
  {
   "cell_type": "code",
   "execution_count": 7,
   "metadata": {
    "scrolled": true
   },
   "outputs": [
    {
     "data": {
      "text/html": [
       "<div>\n",
       "<style scoped>\n",
       "    .dataframe tbody tr th:only-of-type {\n",
       "        vertical-align: middle;\n",
       "    }\n",
       "\n",
       "    .dataframe tbody tr th {\n",
       "        vertical-align: top;\n",
       "    }\n",
       "\n",
       "    .dataframe thead th {\n",
       "        text-align: right;\n",
       "    }\n",
       "</style>\n",
       "<table border=\"1\" class=\"dataframe\">\n",
       "  <thead>\n",
       "    <tr style=\"text-align: right;\">\n",
       "      <th></th>\n",
       "      <th>x_0</th>\n",
       "      <th>x_1</th>\n",
       "      <th>x_2</th>\n",
       "      <th>x_3</th>\n",
       "      <th>x_4</th>\n",
       "      <th>x_5</th>\n",
       "      <th>x_6</th>\n",
       "      <th>x_7</th>\n",
       "      <th>x_8</th>\n",
       "      <th>x_9</th>\n",
       "      <th>...</th>\n",
       "      <th>x_151</th>\n",
       "      <th>x_152</th>\n",
       "      <th>x_153</th>\n",
       "      <th>x_154</th>\n",
       "      <th>x_155</th>\n",
       "      <th>x_156</th>\n",
       "      <th>x_157</th>\n",
       "      <th>x_158</th>\n",
       "      <th>x_159</th>\n",
       "      <th>label</th>\n",
       "    </tr>\n",
       "    <tr>\n",
       "      <th>index</th>\n",
       "      <th></th>\n",
       "      <th></th>\n",
       "      <th></th>\n",
       "      <th></th>\n",
       "      <th></th>\n",
       "      <th></th>\n",
       "      <th></th>\n",
       "      <th></th>\n",
       "      <th></th>\n",
       "      <th></th>\n",
       "      <th></th>\n",
       "      <th></th>\n",
       "      <th></th>\n",
       "      <th></th>\n",
       "      <th></th>\n",
       "      <th></th>\n",
       "      <th></th>\n",
       "      <th></th>\n",
       "      <th></th>\n",
       "      <th></th>\n",
       "      <th></th>\n",
       "    </tr>\n",
       "  </thead>\n",
       "  <tbody>\n",
       "    <tr>\n",
       "      <th>0</th>\n",
       "      <td>0.060713</td>\n",
       "      <td>0.151958</td>\n",
       "      <td>-0.041733</td>\n",
       "      <td>0.017015</td>\n",
       "      <td>0.038782</td>\n",
       "      <td>0.035380</td>\n",
       "      <td>0.201292</td>\n",
       "      <td>-0.057736</td>\n",
       "      <td>0.089120</td>\n",
       "      <td>0.024313</td>\n",
       "      <td>...</td>\n",
       "      <td>0.054816</td>\n",
       "      <td>0.082247</td>\n",
       "      <td>0.013817</td>\n",
       "      <td>0.304065</td>\n",
       "      <td>-0.114688</td>\n",
       "      <td>0.047508</td>\n",
       "      <td>0.014961</td>\n",
       "      <td>-0.000592</td>\n",
       "      <td>0.040578</td>\n",
       "      <td>1</td>\n",
       "    </tr>\n",
       "    <tr>\n",
       "      <th>1</th>\n",
       "      <td>0.287918</td>\n",
       "      <td>0.213673</td>\n",
       "      <td>0.134863</td>\n",
       "      <td>0.089040</td>\n",
       "      <td>-0.238716</td>\n",
       "      <td>0.064600</td>\n",
       "      <td>-0.067218</td>\n",
       "      <td>0.041489</td>\n",
       "      <td>0.208987</td>\n",
       "      <td>-0.016592</td>\n",
       "      <td>...</td>\n",
       "      <td>0.121426</td>\n",
       "      <td>0.125612</td>\n",
       "      <td>-0.076305</td>\n",
       "      <td>0.015349</td>\n",
       "      <td>0.131498</td>\n",
       "      <td>-0.182803</td>\n",
       "      <td>0.185406</td>\n",
       "      <td>-0.103876</td>\n",
       "      <td>0.053189</td>\n",
       "      <td>2</td>\n",
       "    </tr>\n",
       "    <tr>\n",
       "      <th>2</th>\n",
       "      <td>0.099785</td>\n",
       "      <td>0.138385</td>\n",
       "      <td>-0.013874</td>\n",
       "      <td>-0.115157</td>\n",
       "      <td>-0.119726</td>\n",
       "      <td>-0.005885</td>\n",
       "      <td>0.078712</td>\n",
       "      <td>0.087181</td>\n",
       "      <td>0.042229</td>\n",
       "      <td>-0.003713</td>\n",
       "      <td>...</td>\n",
       "      <td>0.048688</td>\n",
       "      <td>0.089827</td>\n",
       "      <td>-0.026748</td>\n",
       "      <td>-0.052219</td>\n",
       "      <td>-0.066039</td>\n",
       "      <td>-0.043265</td>\n",
       "      <td>-0.012229</td>\n",
       "      <td>0.033740</td>\n",
       "      <td>0.046670</td>\n",
       "      <td>1</td>\n",
       "    </tr>\n",
       "    <tr>\n",
       "      <th>3</th>\n",
       "      <td>0.040776</td>\n",
       "      <td>0.012628</td>\n",
       "      <td>0.157134</td>\n",
       "      <td>0.218746</td>\n",
       "      <td>0.006300</td>\n",
       "      <td>-0.025235</td>\n",
       "      <td>-0.042563</td>\n",
       "      <td>0.037129</td>\n",
       "      <td>0.083585</td>\n",
       "      <td>-0.036305</td>\n",
       "      <td>...</td>\n",
       "      <td>-0.087176</td>\n",
       "      <td>0.061044</td>\n",
       "      <td>0.007459</td>\n",
       "      <td>-0.030205</td>\n",
       "      <td>-0.135795</td>\n",
       "      <td>0.253941</td>\n",
       "      <td>-0.103839</td>\n",
       "      <td>0.116213</td>\n",
       "      <td>-0.050361</td>\n",
       "      <td>1</td>\n",
       "    </tr>\n",
       "    <tr>\n",
       "      <th>4</th>\n",
       "      <td>0.209236</td>\n",
       "      <td>0.139003</td>\n",
       "      <td>0.064770</td>\n",
       "      <td>0.067832</td>\n",
       "      <td>-0.025583</td>\n",
       "      <td>-0.040485</td>\n",
       "      <td>0.151339</td>\n",
       "      <td>-0.086564</td>\n",
       "      <td>0.115224</td>\n",
       "      <td>0.038109</td>\n",
       "      <td>...</td>\n",
       "      <td>0.102454</td>\n",
       "      <td>-0.268836</td>\n",
       "      <td>0.192754</td>\n",
       "      <td>0.145282</td>\n",
       "      <td>-0.047852</td>\n",
       "      <td>0.165609</td>\n",
       "      <td>0.063352</td>\n",
       "      <td>-0.102488</td>\n",
       "      <td>-0.234898</td>\n",
       "      <td>1</td>\n",
       "    </tr>\n",
       "  </tbody>\n",
       "</table>\n",
       "<p>5 rows × 161 columns</p>\n",
       "</div>"
      ],
      "text/plain": [
       "            x_0       x_1       x_2       x_3       x_4       x_5       x_6  \\\n",
       "index                                                                         \n",
       "0      0.060713  0.151958 -0.041733  0.017015  0.038782  0.035380  0.201292   \n",
       "1      0.287918  0.213673  0.134863  0.089040 -0.238716  0.064600 -0.067218   \n",
       "2      0.099785  0.138385 -0.013874 -0.115157 -0.119726 -0.005885  0.078712   \n",
       "3      0.040776  0.012628  0.157134  0.218746  0.006300 -0.025235 -0.042563   \n",
       "4      0.209236  0.139003  0.064770  0.067832 -0.025583 -0.040485  0.151339   \n",
       "\n",
       "            x_7       x_8       x_9  ...       x_151     x_152     x_153  \\\n",
       "index                                ...                                   \n",
       "0     -0.057736  0.089120  0.024313  ...    0.054816  0.082247  0.013817   \n",
       "1      0.041489  0.208987 -0.016592  ...    0.121426  0.125612 -0.076305   \n",
       "2      0.087181  0.042229 -0.003713  ...    0.048688  0.089827 -0.026748   \n",
       "3      0.037129  0.083585 -0.036305  ...   -0.087176  0.061044  0.007459   \n",
       "4     -0.086564  0.115224  0.038109  ...    0.102454 -0.268836  0.192754   \n",
       "\n",
       "          x_154     x_155     x_156     x_157     x_158     x_159  label  \n",
       "index                                                                     \n",
       "0      0.304065 -0.114688  0.047508  0.014961 -0.000592  0.040578      1  \n",
       "1      0.015349  0.131498 -0.182803  0.185406 -0.103876  0.053189      2  \n",
       "2     -0.052219 -0.066039 -0.043265 -0.012229  0.033740  0.046670      1  \n",
       "3     -0.030205 -0.135795  0.253941 -0.103839  0.116213 -0.050361      1  \n",
       "4      0.145282 -0.047852  0.165609  0.063352 -0.102488 -0.234898      1  \n",
       "\n",
       "[5 rows x 161 columns]"
      ]
     },
     "execution_count": 7,
     "metadata": {},
     "output_type": "execute_result"
    }
   ],
   "source": [
    "dev_df = pd.DataFrame(np.hstack((data['ids'].reshape(-1, 1), model.embeddings, data['labels'].reshape(-1, 1))),\n",
    "             columns=['index'] + [f'x_{i}' for i in range(160)] + ['label'])\n",
    "dev_df['index'] = dev_df['index'].astype(int)\n",
    "dev_df['label'] = dev_df['label'].astype(int)\n",
    "dev_df = dev_df.set_index('index')\n",
    "dev_df.head()"
   ]
  },
  {
   "cell_type": "code",
   "execution_count": 8,
   "metadata": {},
   "outputs": [],
   "source": [
    "train_indx, test_indx =  train_test_split(dev_df.index, stratify=dev_df['label'], test_size=0.5)"
   ]
  },
  {
   "cell_type": "code",
   "execution_count": 9,
   "metadata": {},
   "outputs": [],
   "source": [
    "train_X, train_y = dev_df.iloc[train_indx,:-1].values, dev_df.iloc[train_indx,-1].values \n",
    "test_X, test_y = dev_df.iloc[test_indx,:-1].values, dev_df.iloc[test_indx,-1].values "
   ]
  },
  {
   "cell_type": "code",
   "execution_count": 10,
   "metadata": {},
   "outputs": [
    {
     "data": {
      "text/plain": [
       "OneVsRestClassifier(estimator=LinearSVC(C=15, class_weight=None, dual=True, fit_intercept=True,\n",
       "     intercept_scaling=1, loss='squared_hinge', max_iter=10000,\n",
       "     multi_class='ovr', penalty='l2', random_state=None, tol=0.0001,\n",
       "     verbose=0),\n",
       "          n_jobs=1)"
      ]
     },
     "execution_count": 10,
     "metadata": {},
     "output_type": "execute_result"
    }
   ],
   "source": [
    "clf = OneVsRestClassifier(LinearSVC(C=15, max_iter=10000))\n",
    "# clf = OneVsRestClassifier(GradientBoostingClassifier())\n",
    "\n",
    "clf.fit(train_X, train_y)"
   ]
  },
  {
   "cell_type": "code",
   "execution_count": 11,
   "metadata": {},
   "outputs": [],
   "source": [
    "pred_y = clf.predict(test_X)"
   ]
  },
  {
   "cell_type": "code",
   "execution_count": 18,
   "metadata": {},
   "outputs": [
    {
     "data": {
      "text/plain": [
       "0.8382570162481536"
      ]
     },
     "execution_count": 18,
     "metadata": {},
     "output_type": "execute_result"
    }
   ],
   "source": [
    "accuracy_score(test_y, pred_y)"
   ]
  },
  {
   "cell_type": "code",
   "execution_count": 13,
   "metadata": {},
   "outputs": [
    {
     "data": {
      "text/plain": [
       "0.8382570162481536"
      ]
     },
     "execution_count": 13,
     "metadata": {},
     "output_type": "execute_result"
    }
   ],
   "source": [
    "f1_score(test_y, pred_y, average='micro')"
   ]
  },
  {
   "cell_type": "code",
   "execution_count": 14,
   "metadata": {},
   "outputs": [
    {
     "data": {
      "text/plain": [
       "array([3, 2, 4, ..., 2, 5, 6])"
      ]
     },
     "execution_count": 14,
     "metadata": {},
     "output_type": "execute_result"
    }
   ],
   "source": [
    "test_y"
   ]
  },
  {
   "cell_type": "code",
   "execution_count": 15,
   "metadata": {},
   "outputs": [
    {
     "data": {
      "text/plain": [
       "array([3, 2, 1, ..., 2, 5, 6])"
      ]
     },
     "execution_count": 15,
     "metadata": {},
     "output_type": "execute_result"
    }
   ],
   "source": [
    "pred_y"
   ]
  },
  {
   "cell_type": "code",
   "execution_count": 16,
   "metadata": {},
   "outputs": [
    {
     "data": {
      "text/plain": [
       "(array([0, 1, 2, 3, 4, 5, 6]), array([141, 210, 420, 223,  91,  95, 174]))"
      ]
     },
     "execution_count": 16,
     "metadata": {},
     "output_type": "execute_result"
    }
   ],
   "source": [
    "np.unique(pred_y, return_counts=True)"
   ]
  },
  {
   "cell_type": "code",
   "execution_count": 17,
   "metadata": {},
   "outputs": [
    {
     "data": {
      "text/plain": [
       "(array([0, 1, 2, 3, 4, 5, 6]), array([149, 209, 409, 213, 109,  90, 175]))"
      ]
     },
     "execution_count": 17,
     "metadata": {},
     "output_type": "execute_result"
    }
   ],
   "source": [
    "np.unique(test_y, return_counts=True)"
   ]
  }
 ],
 "metadata": {
  "kernelspec": {
   "display_name": "Python [conda env:graph_text]",
   "language": "python",
   "name": "conda-env-graph_text-py"
  },
  "language_info": {
   "codemirror_mode": {
    "name": "ipython",
    "version": 3
   },
   "file_extension": ".py",
   "mimetype": "text/x-python",
   "name": "python",
   "nbconvert_exporter": "python",
   "pygments_lexer": "ipython3",
   "version": "3.6.10"
  }
 },
 "nbformat": 4,
 "nbformat_minor": 2
}
